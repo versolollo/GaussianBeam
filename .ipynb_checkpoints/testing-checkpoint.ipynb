{
 "cells": [
  {
   "cell_type": "markdown",
   "id": "d0199f9b-8d92-49c1-8f30-211d3f90ad3d",
   "metadata": {},
   "source": [
    "## Test: curved surface"
   ]
  },
  {
   "cell_type": "code",
   "execution_count": 1,
   "id": "8ddbc7a7-1c34-4913-892c-7271957900bd",
   "metadata": {},
   "outputs": [],
   "source": [
    "%load_ext autoreload\n",
    "%autoreload 2"
   ]
  },
  {
   "cell_type": "code",
   "execution_count": 4,
   "id": "363302c8-0e5b-48ff-9c82-7798ce76eabe",
   "metadata": {},
   "outputs": [],
   "source": [
    "from gaussian_beam import GaussianBeam, OpticalSystem"
   ]
  },
  {
   "cell_type": "code",
   "execution_count": 5,
   "id": "cb1441e5-db12-4ac4-ba7b-4f6f427a0f40",
   "metadata": {},
   "outputs": [],
   "source": [
    "def lens_maker(R1, R2, n1, n2):\n",
    "    f = 1/((n2-n1)/n1 * (1/R1 + 1/R2))\n",
    "    return f"
   ]
  },
  {
   "cell_type": "code",
   "execution_count": 17,
   "id": "995be055-13e4-4c7b-b91f-ff5f1d9913cd",
   "metadata": {},
   "outputs": [],
   "source": [
    "g1 = GaussianBeam(wlength=461e-9)\n",
    "g2 = g1.copy()"
   ]
  },
  {
   "cell_type": "code",
   "execution_count": 24,
   "id": "0314082a-cf62-4a1e-a92d-932bcf1eab6a",
   "metadata": {},
   "outputs": [],
   "source": [
    "R1 = 40e-3\n",
    "R2 = -30e-3\n",
    "\n",
    "sys1 = OpticalSystem(g1)\n",
    "sys2 = OpticalSystem(g2)\n",
    "\n",
    "sys1.thin_lens(f=lens_maker(R1, -R2, 1, 1.4))\n",
    "\n",
    "sys2.curved_surf(R1, 1.4)\n",
    "sys2.propagate(5e-3)\n",
    "sys2.curved_surf(R2, 1)\n"
   ]
  },
  {
   "cell_type": "code",
   "execution_count": 23,
   "id": "ea5c0d7f-224b-495d-ad00-daa3479466a6",
   "metadata": {},
   "outputs": [
    {
     "name": "stdout",
     "output_type": "stream",
     "text": [
      "Gaussian Laser Beam @ 4.61e-07nm\n",
      "#\t---z0---\t--w(0)--\t---w0---\t---zr---\t--NAe2--\n",
      "0\t0.00e+00\t5.42e-04\t5.42e-04\t2.00e+00\t2.71e-04\t[START]\n",
      "1\t4.28e-02\t5.42e-04\t1.16e-05\t9.18e-04\t1.26e-02\t[f=0.042857142857142864]\n"
     ]
    },
    {
     "ename": "ZeroDivisionError",
     "evalue": "division by zero",
     "output_type": "error",
     "traceback": [
      "\u001b[0;31m---------------------------------------------------------------------------\u001b[0m",
      "\u001b[0;31mZeroDivisionError\u001b[0m                         Traceback (most recent call last)",
      "Cell \u001b[0;32mIn[23], line 2\u001b[0m\n\u001b[1;32m      1\u001b[0m \u001b[38;5;28mprint\u001b[39m(sys1)\n\u001b[0;32m----> 2\u001b[0m \u001b[38;5;28;43mprint\u001b[39;49m\u001b[43m(\u001b[49m\u001b[43msys2\u001b[49m\u001b[43m)\u001b[49m\n",
      "File \u001b[0;32m~/Library/CloudStorage/OneDrive-Nexus365/DPhil/ion_trap_scripts/GaussianBeam/gaussian_beam.py:236\u001b[0m, in \u001b[0;36mOpticalSystem.__repr__\u001b[0;34m(self)\u001b[0m\n\u001b[1;32m    234\u001b[0m repr_str \u001b[38;5;241m=\u001b[39m \u001b[38;5;124mf\u001b[39m\u001b[38;5;124m\"\u001b[39m\u001b[38;5;124mGaussian Laser Beam @ \u001b[39m\u001b[38;5;132;01m{\u001b[39;00m\u001b[38;5;28mself\u001b[39m\u001b[38;5;241m.\u001b[39mgaussian_beams[\u001b[38;5;241m0\u001b[39m]\u001b[38;5;241m.\u001b[39mwlength\u001b[38;5;132;01m}\u001b[39;00m\u001b[38;5;124mnm\u001b[39m\u001b[38;5;130;01m\\n\u001b[39;00m\u001b[38;5;124m#\u001b[39m\u001b[38;5;130;01m\\t\u001b[39;00m\u001b[38;5;124m---z0---\u001b[39m\u001b[38;5;130;01m\\t\u001b[39;00m\u001b[38;5;124m--w(0)--\u001b[39m\u001b[38;5;130;01m\\t\u001b[39;00m\u001b[38;5;124m---w0---\u001b[39m\u001b[38;5;130;01m\\t\u001b[39;00m\u001b[38;5;124m---zr---\u001b[39m\u001b[38;5;130;01m\\t\u001b[39;00m\u001b[38;5;124m--NAe2--\u001b[39m\u001b[38;5;124m\"\u001b[39m\n\u001b[1;32m    235\u001b[0m \u001b[38;5;28;01mfor\u001b[39;00m i_b, b \u001b[38;5;129;01min\u001b[39;00m \u001b[38;5;28menumerate\u001b[39m(\u001b[38;5;28mself\u001b[39m\u001b[38;5;241m.\u001b[39mgaussian_beams):\n\u001b[0;32m--> 236\u001b[0m     b_str \u001b[38;5;241m=\u001b[39m \u001b[38;5;124mf\u001b[39m\u001b[38;5;124m\"\u001b[39m\u001b[38;5;130;01m\\n\u001b[39;00m\u001b[38;5;132;01m{\u001b[39;00mi_b\u001b[38;5;132;01m}\u001b[39;00m\u001b[38;5;130;01m\\t\u001b[39;00m\u001b[38;5;132;01m{\u001b[39;00mb\u001b[38;5;241m.\u001b[39mz0\u001b[38;5;132;01m:\u001b[39;00m\u001b[38;5;124m.2e\u001b[39m\u001b[38;5;132;01m}\u001b[39;00m\u001b[38;5;130;01m\\t\u001b[39;00m\u001b[38;5;132;01m{\u001b[39;00m\u001b[43mb\u001b[49m\u001b[38;5;241;43m.\u001b[39;49m\u001b[43mw\u001b[49m\u001b[43m(\u001b[49m\u001b[38;5;241;43m0\u001b[39;49m\u001b[43m)\u001b[49m\u001b[38;5;132;01m:\u001b[39;00m\u001b[38;5;124m.2e\u001b[39m\u001b[38;5;132;01m}\u001b[39;00m\u001b[38;5;130;01m\\t\u001b[39;00m\u001b[38;5;132;01m{\u001b[39;00mb\u001b[38;5;241m.\u001b[39mw0\u001b[38;5;132;01m:\u001b[39;00m\u001b[38;5;124m.2e\u001b[39m\u001b[38;5;132;01m}\u001b[39;00m\u001b[38;5;130;01m\\t\u001b[39;00m\u001b[38;5;132;01m{\u001b[39;00mb\u001b[38;5;241m.\u001b[39mzr\u001b[38;5;132;01m:\u001b[39;00m\u001b[38;5;124m.2e\u001b[39m\u001b[38;5;132;01m}\u001b[39;00m\u001b[38;5;130;01m\\t\u001b[39;00m\u001b[38;5;132;01m{\u001b[39;00mb\u001b[38;5;241m.\u001b[39mNAe2\u001b[38;5;132;01m:\u001b[39;00m\u001b[38;5;124m.2e\u001b[39m\u001b[38;5;132;01m}\u001b[39;00m\u001b[38;5;130;01m\\t\u001b[39;00m\u001b[38;5;124m[\u001b[39m\u001b[38;5;132;01m{\u001b[39;00m\u001b[38;5;28mself\u001b[39m\u001b[38;5;241m.\u001b[39mpartitions[i_b]\u001b[38;5;132;01m}\u001b[39;00m\u001b[38;5;124m]\u001b[39m\u001b[38;5;124m\"\u001b[39m\n\u001b[1;32m    237\u001b[0m     repr_str \u001b[38;5;241m+\u001b[39m\u001b[38;5;241m=\u001b[39m b_str\n\u001b[1;32m    238\u001b[0m \u001b[38;5;28;01mreturn\u001b[39;00m repr_str\n",
      "File \u001b[0;32m~/Library/CloudStorage/OneDrive-Nexus365/DPhil/ion_trap_scripts/GaussianBeam/gaussian_beam.py:65\u001b[0m, in \u001b[0;36mGaussianBeam.w\u001b[0;34m(self, z)\u001b[0m\n\u001b[1;32m     63\u001b[0m \u001b[38;5;28;01mdef\u001b[39;00m \u001b[38;5;21mw\u001b[39m(\u001b[38;5;28mself\u001b[39m, z):\n\u001b[1;32m     64\u001b[0m     \u001b[38;5;124;03m\"\"\"half beam diameter\"\"\"\u001b[39;00m\n\u001b[0;32m---> 65\u001b[0m     \u001b[38;5;28;01mreturn\u001b[39;00m \u001b[38;5;28mself\u001b[39m\u001b[38;5;241m.\u001b[39mw0 \u001b[38;5;241m*\u001b[39m np\u001b[38;5;241m.\u001b[39msqrt(\u001b[38;5;241m1\u001b[39m \u001b[38;5;241m+\u001b[39m (\u001b[43m(\u001b[49m\u001b[43mz\u001b[49m\u001b[43m \u001b[49m\u001b[38;5;241;43m-\u001b[39;49m\u001b[43m \u001b[49m\u001b[38;5;28;43mself\u001b[39;49m\u001b[38;5;241;43m.\u001b[39;49m\u001b[43mz0\u001b[49m\u001b[43m)\u001b[49m\u001b[43m \u001b[49m\u001b[38;5;241;43m/\u001b[39;49m\u001b[43m \u001b[49m\u001b[38;5;28;43mself\u001b[39;49m\u001b[38;5;241;43m.\u001b[39;49m\u001b[43mzr\u001b[49m) \u001b[38;5;241m*\u001b[39m\u001b[38;5;241m*\u001b[39m \u001b[38;5;241m2\u001b[39m)\n",
      "\u001b[0;31mZeroDivisionError\u001b[0m: division by zero"
     ]
    }
   ],
   "source": [
    "print(sys1)\n",
    "print(sys2)"
   ]
  },
  {
   "cell_type": "code",
   "execution_count": 15,
   "id": "87f479e3-a8e9-447f-b330-062387531416",
   "metadata": {},
   "outputs": [
    {
     "data": {
      "text/plain": [
       "0.042857142857142864"
      ]
     },
     "execution_count": 15,
     "metadata": {},
     "output_type": "execute_result"
    }
   ],
   "source": [
    "lens_maker(R1, -R2, 1, 1.4)"
   ]
  },
  {
   "cell_type": "code",
   "execution_count": null,
   "id": "22eaba2b-49fd-48ce-9c83-6c99a1ea83c6",
   "metadata": {},
   "outputs": [],
   "source": []
  }
 ],
 "metadata": {
  "kernelspec": {
   "display_name": "Python 3 (ipykernel)",
   "language": "python",
   "name": "python3"
  },
  "language_info": {
   "codemirror_mode": {
    "name": "ipython",
    "version": 3
   },
   "file_extension": ".py",
   "mimetype": "text/x-python",
   "name": "python",
   "nbconvert_exporter": "python",
   "pygments_lexer": "ipython3",
   "version": "3.10.8"
  }
 },
 "nbformat": 4,
 "nbformat_minor": 5
}
